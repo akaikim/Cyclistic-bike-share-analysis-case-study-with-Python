{
  "cells": [
    {
      "cell_type": "markdown",
      "metadata": {
        "id": "view-in-github",
        "colab_type": "text"
      },
      "source": [
        "<a href=\"https://colab.research.google.com/github/akaikim/test_2/blob/main/Google_data_trip.ipynb\" target=\"_parent\"><img src=\"https://colab.research.google.com/assets/colab-badge.svg\" alt=\"Open In Colab\"/></a>"
      ]
    },
    {
      "cell_type": "code",
      "execution_count": 1,
      "metadata": {
        "id": "HuKvSIMcWHlu"
      },
      "outputs": [],
      "source": [
        "import numpy as np\n",
        "from numpy import arange\n",
        "from matplotlib import pyplot\n",
        "import matplotlib.pyplot as plt\n",
        "import pandas as pd\n",
        "import re\n",
        "import csv\n",
        "from pandas import read_csv\n",
        "from pandas import set_option\n",
        "from datetime import datetime"
      ]
    },
    {
      "cell_type": "code",
      "execution_count": 2,
      "metadata": {
        "colab": {
          "base_uri": "https://localhost:8080/"
        },
        "id": "wOjbiZ9NWPhX",
        "outputId": "dfe78c53-8171-4b80-acd1-69cbdd33eb2a"
      },
      "outputs": [
        {
          "output_type": "stream",
          "name": "stdout",
          "text": [
            "/content/drive/MyDrive/data\n"
          ]
        }
      ],
      "source": [
        "#read csv file\n",
        "%cd '/content/drive/MyDrive/data'\n",
        "Jan = pd.read_csv('202101.csv')\n",
        "Feb = pd.read_csv('202102.csv')\n",
        "Mar = pd.read_csv('202103.csv')\n",
        "Apr = pd.read_csv('202104.csv')\n",
        "May = pd.read_csv('202105.csv')\n",
        "Jun = pd.read_csv('202106.csv')\n",
        "Jul = pd.read_csv('202107.csv')\n",
        "Aug = pd.read_csv('202108.csv')\n",
        "Sep = pd.read_csv('202109.csv')\n",
        "Oct = pd.read_csv('202110.csv')\n",
        "Nov = pd.read_csv('202111.csv')\n",
        "Dec = pd.read_csv('202112.csv')"
      ]
    },
    {
      "cell_type": "code",
      "execution_count": null,
      "metadata": {
        "id": "X-Sh8Ss1X86X"
      },
      "outputs": [],
      "source": [
        "#Display each column name and check for consistency\n",
        "Jan.info()\n",
        "Feb.info()\n",
        "Mar.info()\n",
        "Apr.info()\n",
        "May.info()\n",
        "Jun.info()\n",
        "Jul.info()\n",
        "Aug.info()\n",
        "Sep.info()\n",
        "Oct.info()\n",
        "Nov.info()\n",
        "Dec.info()"
      ]
    },
    {
      "cell_type": "code",
      "execution_count": 4,
      "metadata": {
        "colab": {
          "base_uri": "https://localhost:8080/"
        },
        "id": "dBTFOQlwYZ6Q",
        "outputId": "ba92e9f9-4dee-4544-f6f6-74fff2e2603f"
      },
      "outputs": [
        {
          "output_type": "stream",
          "name": "stdout",
          "text": [
            "<class 'pandas.core.frame.DataFrame'>\n",
            "Int64Index: 5595063 entries, 0 to 247539\n",
            "Data columns (total 13 columns):\n",
            " #   Column              Dtype  \n",
            "---  ------              -----  \n",
            " 0   ride_id             object \n",
            " 1   rideable_type       object \n",
            " 2   started_at          object \n",
            " 3   ended_at            object \n",
            " 4   start_station_name  object \n",
            " 5   start_station_id    object \n",
            " 6   end_station_name    object \n",
            " 7   end_station_id      object \n",
            " 8   start_lat           float64\n",
            " 9   start_lng           float64\n",
            " 10  end_lat             float64\n",
            " 11  end_lng             float64\n",
            " 12  member_casual       object \n",
            "dtypes: float64(4), object(9)\n",
            "memory usage: 597.6+ MB\n"
          ]
        }
      ],
      "source": [
        "#Combine dataframes into big one\n",
        "Year2021 = pd.concat([Jan, Feb, Mar, Apr, May, Jun, Jul, Aug, Sep, Oct, Nov, Dec])\n",
        "Year2021.info()\n"
      ]
    },
    {
      "cell_type": "code",
      "execution_count": 5,
      "metadata": {
        "id": "Y9sodyRgU9Sl"
      },
      "outputs": [],
      "source": [
        "#Convert to datetime format\n",
        "Year2021['started_at'] = pd.to_datetime(Year2021['started_at'])\n",
        "Year2021['ended_at'] = pd.to_datetime(Year2021['ended_at'])"
      ]
    },
    {
      "cell_type": "code",
      "execution_count": 6,
      "metadata": {
        "colab": {
          "base_uri": "https://localhost:8080/",
          "height": 443
        },
        "id": "37VneGwtMiWI",
        "outputId": "abff802a-6d5b-4913-b8e0-43a53b8acd3e"
      },
      "outputs": [
        {
          "output_type": "execute_result",
          "data": {
            "text/plain": [
              "            ride_id  rideable_type          started_at            ended_at  \\\n",
              "0  E19E6F1B8D4C42ED  electric_bike 2021-01-23 16:14:19 2021-01-23 16:24:44   \n",
              "1  DC88F20C2C55F27F  electric_bike 2021-01-27 18:43:08 2021-01-27 18:47:12   \n",
              "2  EC45C94683FE3F27  electric_bike 2021-01-21 22:35:54 2021-01-21 22:37:14   \n",
              "3  4FA453A75AE377DB  electric_bike 2021-01-07 13:31:13 2021-01-07 13:42:55   \n",
              "4  BE5E8EB4E7263A0B  electric_bike 2021-01-23 02:24:02 2021-01-23 02:24:45   \n",
              "\n",
              "           start_station_name start_station_id end_station_name  \\\n",
              "0  California Ave & Cortez St            17660              NaN   \n",
              "1  California Ave & Cortez St            17660              NaN   \n",
              "2  California Ave & Cortez St            17660              NaN   \n",
              "3  California Ave & Cortez St            17660              NaN   \n",
              "4  California Ave & Cortez St            17660              NaN   \n",
              "\n",
              "  end_station_id  start_lat  start_lng  end_lat  end_lng member_casual  \\\n",
              "0            NaN  41.900341 -87.696743    41.89   -87.72        member   \n",
              "1            NaN  41.900333 -87.696707    41.90   -87.69        member   \n",
              "2            NaN  41.900313 -87.696643    41.90   -87.70        member   \n",
              "3            NaN  41.900399 -87.696662    41.92   -87.69        member   \n",
              "4            NaN  41.900326 -87.696697    41.90   -87.70        casual   \n",
              "\n",
              "  day_of_week  month  \n",
              "0    Saturday      1  \n",
              "1   Wednesday      1  \n",
              "2    Thursday      1  \n",
              "3    Thursday      1  \n",
              "4    Saturday      1  "
            ],
            "text/html": [
              "\n",
              "  <div id=\"df-1b74e739-51a6-4f91-be48-7a30a483387a\">\n",
              "    <div class=\"colab-df-container\">\n",
              "      <div>\n",
              "<style scoped>\n",
              "    .dataframe tbody tr th:only-of-type {\n",
              "        vertical-align: middle;\n",
              "    }\n",
              "\n",
              "    .dataframe tbody tr th {\n",
              "        vertical-align: top;\n",
              "    }\n",
              "\n",
              "    .dataframe thead th {\n",
              "        text-align: right;\n",
              "    }\n",
              "</style>\n",
              "<table border=\"1\" class=\"dataframe\">\n",
              "  <thead>\n",
              "    <tr style=\"text-align: right;\">\n",
              "      <th></th>\n",
              "      <th>ride_id</th>\n",
              "      <th>rideable_type</th>\n",
              "      <th>started_at</th>\n",
              "      <th>ended_at</th>\n",
              "      <th>start_station_name</th>\n",
              "      <th>start_station_id</th>\n",
              "      <th>end_station_name</th>\n",
              "      <th>end_station_id</th>\n",
              "      <th>start_lat</th>\n",
              "      <th>start_lng</th>\n",
              "      <th>end_lat</th>\n",
              "      <th>end_lng</th>\n",
              "      <th>member_casual</th>\n",
              "      <th>day_of_week</th>\n",
              "      <th>month</th>\n",
              "    </tr>\n",
              "  </thead>\n",
              "  <tbody>\n",
              "    <tr>\n",
              "      <th>0</th>\n",
              "      <td>E19E6F1B8D4C42ED</td>\n",
              "      <td>electric_bike</td>\n",
              "      <td>2021-01-23 16:14:19</td>\n",
              "      <td>2021-01-23 16:24:44</td>\n",
              "      <td>California Ave &amp; Cortez St</td>\n",
              "      <td>17660</td>\n",
              "      <td>NaN</td>\n",
              "      <td>NaN</td>\n",
              "      <td>41.900341</td>\n",
              "      <td>-87.696743</td>\n",
              "      <td>41.89</td>\n",
              "      <td>-87.72</td>\n",
              "      <td>member</td>\n",
              "      <td>Saturday</td>\n",
              "      <td>1</td>\n",
              "    </tr>\n",
              "    <tr>\n",
              "      <th>1</th>\n",
              "      <td>DC88F20C2C55F27F</td>\n",
              "      <td>electric_bike</td>\n",
              "      <td>2021-01-27 18:43:08</td>\n",
              "      <td>2021-01-27 18:47:12</td>\n",
              "      <td>California Ave &amp; Cortez St</td>\n",
              "      <td>17660</td>\n",
              "      <td>NaN</td>\n",
              "      <td>NaN</td>\n",
              "      <td>41.900333</td>\n",
              "      <td>-87.696707</td>\n",
              "      <td>41.90</td>\n",
              "      <td>-87.69</td>\n",
              "      <td>member</td>\n",
              "      <td>Wednesday</td>\n",
              "      <td>1</td>\n",
              "    </tr>\n",
              "    <tr>\n",
              "      <th>2</th>\n",
              "      <td>EC45C94683FE3F27</td>\n",
              "      <td>electric_bike</td>\n",
              "      <td>2021-01-21 22:35:54</td>\n",
              "      <td>2021-01-21 22:37:14</td>\n",
              "      <td>California Ave &amp; Cortez St</td>\n",
              "      <td>17660</td>\n",
              "      <td>NaN</td>\n",
              "      <td>NaN</td>\n",
              "      <td>41.900313</td>\n",
              "      <td>-87.696643</td>\n",
              "      <td>41.90</td>\n",
              "      <td>-87.70</td>\n",
              "      <td>member</td>\n",
              "      <td>Thursday</td>\n",
              "      <td>1</td>\n",
              "    </tr>\n",
              "    <tr>\n",
              "      <th>3</th>\n",
              "      <td>4FA453A75AE377DB</td>\n",
              "      <td>electric_bike</td>\n",
              "      <td>2021-01-07 13:31:13</td>\n",
              "      <td>2021-01-07 13:42:55</td>\n",
              "      <td>California Ave &amp; Cortez St</td>\n",
              "      <td>17660</td>\n",
              "      <td>NaN</td>\n",
              "      <td>NaN</td>\n",
              "      <td>41.900399</td>\n",
              "      <td>-87.696662</td>\n",
              "      <td>41.92</td>\n",
              "      <td>-87.69</td>\n",
              "      <td>member</td>\n",
              "      <td>Thursday</td>\n",
              "      <td>1</td>\n",
              "    </tr>\n",
              "    <tr>\n",
              "      <th>4</th>\n",
              "      <td>BE5E8EB4E7263A0B</td>\n",
              "      <td>electric_bike</td>\n",
              "      <td>2021-01-23 02:24:02</td>\n",
              "      <td>2021-01-23 02:24:45</td>\n",
              "      <td>California Ave &amp; Cortez St</td>\n",
              "      <td>17660</td>\n",
              "      <td>NaN</td>\n",
              "      <td>NaN</td>\n",
              "      <td>41.900326</td>\n",
              "      <td>-87.696697</td>\n",
              "      <td>41.90</td>\n",
              "      <td>-87.70</td>\n",
              "      <td>casual</td>\n",
              "      <td>Saturday</td>\n",
              "      <td>1</td>\n",
              "    </tr>\n",
              "  </tbody>\n",
              "</table>\n",
              "</div>\n",
              "      <button class=\"colab-df-convert\" onclick=\"convertToInteractive('df-1b74e739-51a6-4f91-be48-7a30a483387a')\"\n",
              "              title=\"Convert this dataframe to an interactive table.\"\n",
              "              style=\"display:none;\">\n",
              "        \n",
              "  <svg xmlns=\"http://www.w3.org/2000/svg\" height=\"24px\"viewBox=\"0 0 24 24\"\n",
              "       width=\"24px\">\n",
              "    <path d=\"M0 0h24v24H0V0z\" fill=\"none\"/>\n",
              "    <path d=\"M18.56 5.44l.94 2.06.94-2.06 2.06-.94-2.06-.94-.94-2.06-.94 2.06-2.06.94zm-11 1L8.5 8.5l.94-2.06 2.06-.94-2.06-.94L8.5 2.5l-.94 2.06-2.06.94zm10 10l.94 2.06.94-2.06 2.06-.94-2.06-.94-.94-2.06-.94 2.06-2.06.94z\"/><path d=\"M17.41 7.96l-1.37-1.37c-.4-.4-.92-.59-1.43-.59-.52 0-1.04.2-1.43.59L10.3 9.45l-7.72 7.72c-.78.78-.78 2.05 0 2.83L4 21.41c.39.39.9.59 1.41.59.51 0 1.02-.2 1.41-.59l7.78-7.78 2.81-2.81c.8-.78.8-2.07 0-2.86zM5.41 20L4 18.59l7.72-7.72 1.47 1.35L5.41 20z\"/>\n",
              "  </svg>\n",
              "      </button>\n",
              "      \n",
              "  <style>\n",
              "    .colab-df-container {\n",
              "      display:flex;\n",
              "      flex-wrap:wrap;\n",
              "      gap: 12px;\n",
              "    }\n",
              "\n",
              "    .colab-df-convert {\n",
              "      background-color: #E8F0FE;\n",
              "      border: none;\n",
              "      border-radius: 50%;\n",
              "      cursor: pointer;\n",
              "      display: none;\n",
              "      fill: #1967D2;\n",
              "      height: 32px;\n",
              "      padding: 0 0 0 0;\n",
              "      width: 32px;\n",
              "    }\n",
              "\n",
              "    .colab-df-convert:hover {\n",
              "      background-color: #E2EBFA;\n",
              "      box-shadow: 0px 1px 2px rgba(60, 64, 67, 0.3), 0px 1px 3px 1px rgba(60, 64, 67, 0.15);\n",
              "      fill: #174EA6;\n",
              "    }\n",
              "\n",
              "    [theme=dark] .colab-df-convert {\n",
              "      background-color: #3B4455;\n",
              "      fill: #D2E3FC;\n",
              "    }\n",
              "\n",
              "    [theme=dark] .colab-df-convert:hover {\n",
              "      background-color: #434B5C;\n",
              "      box-shadow: 0px 1px 3px 1px rgba(0, 0, 0, 0.15);\n",
              "      filter: drop-shadow(0px 1px 2px rgba(0, 0, 0, 0.3));\n",
              "      fill: #FFFFFF;\n",
              "    }\n",
              "  </style>\n",
              "\n",
              "      <script>\n",
              "        const buttonEl =\n",
              "          document.querySelector('#df-1b74e739-51a6-4f91-be48-7a30a483387a button.colab-df-convert');\n",
              "        buttonEl.style.display =\n",
              "          google.colab.kernel.accessAllowed ? 'block' : 'none';\n",
              "\n",
              "        async function convertToInteractive(key) {\n",
              "          const element = document.querySelector('#df-1b74e739-51a6-4f91-be48-7a30a483387a');\n",
              "          const dataTable =\n",
              "            await google.colab.kernel.invokeFunction('convertToInteractive',\n",
              "                                                     [key], {});\n",
              "          if (!dataTable) return;\n",
              "\n",
              "          const docLinkHtml = 'Like what you see? Visit the ' +\n",
              "            '<a target=\"_blank\" href=https://colab.research.google.com/notebooks/data_table.ipynb>data table notebook</a>'\n",
              "            + ' to learn more about interactive tables.';\n",
              "          element.innerHTML = '';\n",
              "          dataTable['output_type'] = 'display_data';\n",
              "          await google.colab.output.renderOutput(dataTable, element);\n",
              "          const docLink = document.createElement('div');\n",
              "          docLink.innerHTML = docLinkHtml;\n",
              "          element.appendChild(docLink);\n",
              "        }\n",
              "      </script>\n",
              "    </div>\n",
              "  </div>\n",
              "  "
            ]
          },
          "metadata": {},
          "execution_count": 6
        }
      ],
      "source": [
        "#create a weekday_name column\n",
        "Year2021['day_of_week'] = Year2021['started_at'].dt.day_name()\n",
        "#create a month_name column\n",
        "Year2021['month'] = Year2021['started_at'].dt.month\n",
        "Year2021.head()"
      ]
    },
    {
      "cell_type": "code",
      "execution_count": 7,
      "metadata": {
        "id": "4YGDSTVpic4U"
      },
      "outputs": [],
      "source": [
        "#Delete Latitude and Longitude columns.\n",
        "Year2021.drop(columns = ['start_lat', 'start_lng', 'end_lat', 'end_lng'], inplace = True)\n"
      ]
    },
    {
      "cell_type": "code",
      "execution_count": 8,
      "metadata": {
        "colab": {
          "base_uri": "https://localhost:8080/"
        },
        "id": "jD-4-kVhi82I",
        "outputId": "b2d7dd27-66dd-4c13-d8ae-e64357c9af95"
      },
      "outputs": [
        {
          "output_type": "stream",
          "name": "stdout",
          "text": [
            "<class 'pandas.core.frame.DataFrame'>\n",
            "Int64Index: 5595063 entries, 0 to 247539\n",
            "Data columns (total 11 columns):\n",
            " #   Column              Dtype         \n",
            "---  ------              -----         \n",
            " 0   ride_id             object        \n",
            " 1   rideable_type       object        \n",
            " 2   started_at          datetime64[ns]\n",
            " 3   ended_at            datetime64[ns]\n",
            " 4   start_station_name  object        \n",
            " 5   start_station_id    object        \n",
            " 6   end_station_name    object        \n",
            " 7   end_station_id      object        \n",
            " 8   member_casual       object        \n",
            " 9   day_of_week         object        \n",
            " 10  month               int64         \n",
            "dtypes: datetime64[ns](2), int64(1), object(8)\n",
            "memory usage: 512.2+ MB\n",
            "First 5 rows: \n",
            "            ride_id  rideable_type          started_at            ended_at  \\\n",
            "0  E19E6F1B8D4C42ED  electric_bike 2021-01-23 16:14:19 2021-01-23 16:24:44   \n",
            "1  DC88F20C2C55F27F  electric_bike 2021-01-27 18:43:08 2021-01-27 18:47:12   \n",
            "2  EC45C94683FE3F27  electric_bike 2021-01-21 22:35:54 2021-01-21 22:37:14   \n",
            "3  4FA453A75AE377DB  electric_bike 2021-01-07 13:31:13 2021-01-07 13:42:55   \n",
            "4  BE5E8EB4E7263A0B  electric_bike 2021-01-23 02:24:02 2021-01-23 02:24:45   \n",
            "\n",
            "           start_station_name start_station_id end_station_name  \\\n",
            "0  California Ave & Cortez St            17660              NaN   \n",
            "1  California Ave & Cortez St            17660              NaN   \n",
            "2  California Ave & Cortez St            17660              NaN   \n",
            "3  California Ave & Cortez St            17660              NaN   \n",
            "4  California Ave & Cortez St            17660              NaN   \n",
            "\n",
            "  end_station_id member_casual day_of_week  month  \n",
            "0            NaN        member    Saturday      1  \n",
            "1            NaN        member   Wednesday      1  \n",
            "2            NaN        member    Thursday      1  \n",
            "3            NaN        member    Thursday      1  \n",
            "4            NaN        casual    Saturday      1  \n",
            "Number of rows:  5595063\n"
          ]
        }
      ],
      "source": [
        "#Inspect the new table that has been created\n",
        "Year2021.info()\n",
        "print(\"First 5 rows: \", end='\\n')\n",
        "print(Year2021.head(5))\n",
        "print(\"Number of rows: \" , Year2021.shape[0])  #count rows"
      ]
    },
    {
      "cell_type": "code",
      "execution_count": 9,
      "metadata": {
        "colab": {
          "base_uri": "https://localhost:8080/"
        },
        "id": "FCDrwDHJk7Vn",
        "outputId": "36bed228-3aac-44a2-fbf3-570af57d0a07"
      },
      "outputs": [
        {
          "output_type": "stream",
          "name": "stdout",
          "text": [
            "Number of rows:  4588302\n"
          ]
        }
      ],
      "source": [
        "#Removing rows with missing values\n",
        "Year2021.dropna(axis=0, how='any', thresh=None, subset=None, inplace=True)\n",
        "print(\"Number of rows: \" , Year2021.shape[0])"
      ]
    },
    {
      "cell_type": "code",
      "execution_count": 10,
      "metadata": {
        "colab": {
          "base_uri": "https://localhost:8080/"
        },
        "id": "Es8kfFLpnNuX",
        "outputId": "2e46289f-8aaf-4a4d-8298-ee4f1cc863fb"
      },
      "outputs": [
        {
          "output_type": "stream",
          "name": "stdout",
          "text": [
            "Number of rows:  4588104\n"
          ]
        }
      ],
      "source": [
        "#Flitering started_at data that is greater than ended_at\n",
        "Year2021 = Year2021[Year2021['started_at'] < Year2021['ended_at']]\n",
        "print(\"Number of rows: \" , Year2021.shape[0])"
      ]
    },
    {
      "cell_type": "code",
      "execution_count": 11,
      "metadata": {
        "colab": {
          "base_uri": "https://localhost:8080/"
        },
        "id": "lF8ij3mAoQbV",
        "outputId": "fd4450f4-2671-4156-901b-f0fdda5682f6"
      },
      "outputs": [
        {
          "output_type": "stream",
          "name": "stderr",
          "text": [
            "/usr/local/lib/python3.7/dist-packages/ipykernel_launcher.py:2: SettingWithCopyWarning: \n",
            "A value is trying to be set on a copy of a slice from a DataFrame.\n",
            "Try using .loc[row_indexer,col_indexer] = value instead\n",
            "\n",
            "See the caveats in the documentation: https://pandas.pydata.org/pandas-docs/stable/user_guide/indexing.html#returning-a-view-versus-a-copy\n",
            "  \n"
          ]
        },
        {
          "output_type": "stream",
          "name": "stdout",
          "text": [
            "             ride_id  rideable_type          started_at            ended_at  \\\n",
            "9   B9F73448DFBE0D45   classic_bike 2021-01-24 19:15:38 2021-01-24 19:22:51   \n",
            "10  457C7F4B5D3DA135  electric_bike 2021-01-23 12:57:38 2021-01-23 13:02:10   \n",
            "11  57C750326F9FDABE  electric_bike 2021-01-09 15:28:04 2021-01-09 15:37:51   \n",
            "12  4D518C65E338D070  electric_bike 2021-01-09 15:28:57 2021-01-09 15:37:54   \n",
            "13  9D08A3AFF410474D   classic_bike 2021-01-24 15:56:59 2021-01-24 16:07:08   \n",
            "\n",
            "            start_station_name start_station_id            end_station_name  \\\n",
            "9   California Ave & Cortez St            17660      Wood St & Augusta Blvd   \n",
            "10  California Ave & Cortez St            17660  California Ave & North Ave   \n",
            "11  California Ave & Cortez St            17660      Wood St & Augusta Blvd   \n",
            "12  California Ave & Cortez St            17660      Wood St & Augusta Blvd   \n",
            "13  California Ave & Cortez St            17660      Wood St & Augusta Blvd   \n",
            "\n",
            "   end_station_id member_casual day_of_week  month  ride_length (mins)  \n",
            "9             657        member      Sunday      1            7.216667  \n",
            "10          13258        member    Saturday      1            4.533333  \n",
            "11            657        casual    Saturday      1            9.783333  \n",
            "12            657        casual    Saturday      1            8.950000  \n",
            "13            657        casual      Sunday      1           10.150000  \n"
          ]
        }
      ],
      "source": [
        "#Add new column to calculate each ride length in mins\n",
        "Year2021['ride_length (mins)'] = Year2021['ended_at'] - Year2021['started_at'] \n",
        "Year2021['ride_length (mins)'] = Year2021['ride_length (mins)'].astype('timedelta64[s]') #convert ride_length from format days H:M:S to second\n",
        "Year2021['ride_length (mins)'] = Year2021['ride_length (mins)']/60 #convert to minutes\n",
        "\n",
        "print(Year2021.head())"
      ]
    },
    {
      "cell_type": "code",
      "execution_count": 12,
      "metadata": {
        "colab": {
          "base_uri": "https://localhost:8080/"
        },
        "id": "IpVlad24eIlw",
        "outputId": "d63116cb-e7ef-4566-9930-85573c22005b"
      },
      "outputs": [
        {
          "output_type": "stream",
          "name": "stdout",
          "text": [
            "               value\n",
            "mean       21.811925\n",
            "median     12.200000\n",
            "std       184.428904\n",
            "max     55944.150000\n",
            "min         0.016667\n"
          ]
        }
      ],
      "source": [
        "#performing statistical analysis\n",
        "\n",
        "#1. Mean\n",
        "mean = Year2021['ride_length (mins)'].mean()\n",
        "#2. Median\n",
        "median = Year2021['ride_length (mins)'].median()\n",
        "#3. Standard deviation\n",
        "std = Year2021['ride_length (mins)'].std()\n",
        "#4. max\n",
        "max = Year2021['ride_length (mins)'].max()\n",
        "#5. min\n",
        "min = Year2021['ride_length (mins)'].min()\n",
        "\n",
        "data = [mean, median, std, max, min]\n",
        "stats = pd.DataFrame(data,\n",
        "                     columns = ['value'],\n",
        "                     index = ['mean', 'median', 'std', 'max', 'min'])\n",
        "print(stats)"
      ]
    },
    {
      "cell_type": "code",
      "execution_count": 13,
      "metadata": {
        "colab": {
          "base_uri": "https://localhost:8080/"
        },
        "id": "FJ3yy4RXyM-s",
        "outputId": "705c6fd5-f988-4d4e-980b-e89407ce97c7"
      },
      "outputs": [
        {
          "output_type": "stream",
          "name": "stdout",
          "text": [
            "casual_mean:  32.51015124560083\n",
            "member_mean:  13.1840086484432\n",
            "\n",
            "casual_median:  16.65\n",
            "member_median:  9.716666666666667\n",
            "\n",
            "casual_std:  274.9568835738806\n",
            "member_std:  17.548593602111143\n",
            "\n",
            "casual_max:  55944.15\n",
            "member_max:  1495.6333333333334\n",
            "\n",
            "casual_min:  0.016666666666666666\n",
            "member_min:  0.016666666666666666\n",
            "\n"
          ]
        }
      ],
      "source": [
        "casual =  Year2021.loc[Year2021['member_casual'] == 'casual']\n",
        "member = Year2021.loc[Year2021['member_casual'] == 'member']\n",
        "\n",
        "#compare members and casual users by mean\n",
        "casual_mean = casual['ride_length (mins)'].mean()\n",
        "print('casual_mean: ', casual_mean)\n",
        "member_mean = member['ride_length (mins)'].mean()\n",
        "print('member_mean: ', member_mean, end='\\n'*2)\n",
        "\n",
        "#compare members and casual users by median\n",
        "casual_median = casual['ride_length (mins)'].median()\n",
        "print('casual_median: ', casual_median)\n",
        "member_median = member['ride_length (mins)'].median()\n",
        "print('member_median: ', member_median, end='\\n'*2)\n",
        "\n",
        "#compare members and casual users by Standard deviation\n",
        "casual_std = casual['ride_length (mins)'].std()\n",
        "print('casual_std: ', casual_std)\n",
        "member_std = member['ride_length (mins)'].std()\n",
        "print('member_std: ', member_std, end='\\n'*2)\n",
        "\n",
        "#compare members and casual users by max\n",
        "casual_max = casual['ride_length (mins)'].max()\n",
        "print('casual_max: ', casual_max)\n",
        "member_max = member['ride_length (mins)'].max()\n",
        "print('member_max: ', member_max, end='\\n'*2)\n",
        "\n",
        "#compare members and casual users by min\n",
        "casual_min = casual['ride_length (mins)'].min()\n",
        "print('casual_min: ', casual_min)\n",
        "member_min = member['ride_length (mins)'].min()\n",
        "print('member_min: ', member_min, end='\\n'*2)"
      ]
    },
    {
      "cell_type": "code",
      "execution_count": 14,
      "metadata": {
        "colab": {
          "base_uri": "https://localhost:8080/",
          "height": 424
        },
        "id": "rWNaq9u-Pr1C",
        "outputId": "3547065c-8fcb-4f21-83ab-1939dfdeaa69"
      },
      "outputs": [
        {
          "output_type": "stream",
          "name": "stdout",
          "text": [
            "           Monday    Tuesday  Wednesday   Thursday     Friday   Saturday  \\\n",
            "casual  32.637242  28.803354  28.269635  28.011003  30.919069  34.872406   \n",
            "member  12.725203  12.388018  12.458150  12.353695  12.792613  14.819790   \n",
            "\n",
            "           Sunday  \n",
            "casual  37.603605  \n",
            "member  15.194649  \n"
          ]
        },
        {
          "output_type": "display_data",
          "data": {
            "text/plain": [
              "<Figure size 432x288 with 1 Axes>"
            ],
            "image/png": "[encoded data removed]"
          },
          "metadata": {
            "needs_background": "light"
          }
        }
      ],
      "source": [
        "#average ride length by each day of the week of member and casual users\n",
        "\n",
        "week_day = ['Monday','Tuesday','Wednesday','Thursday','Friday','Saturday','Sunday']\n",
        "avg_casual = []\n",
        "avg_member = []\n",
        "sample_casual = 0\n",
        "sample_member = 0\n",
        "for i in week_day:\n",
        "  casual_df = casual.loc[casual['day_of_week'] == i]\n",
        "  member_df = member.loc[member['day_of_week'] == i]\n",
        "\n",
        "  sample_casual = casual_df['ride_length (mins)'].mean()\n",
        "  sample_member = member_df['ride_length (mins)'].mean()\n",
        "\n",
        "  avg_casual.append(sample_casual)\n",
        "  avg_member.append(sample_member)\n",
        "\n",
        "avg_day_of_week = pd.DataFrame([avg_casual,avg_member],\n",
        "                            columns = ['Monday','Tuesday','Wednesday','Thursday','Friday','Saturday','Sunday'],\n",
        "                            index = ['casual','member'])             \n",
        "print(avg_day_of_week)\n",
        "#Visual\n",
        "x = np.arange(7)\n",
        "y1 = avg_casual\n",
        "y2 = avg_member\n",
        "width = 0.4\n",
        "plt.bar(x-0.2, y1, width)\n",
        "plt.bar(x+0.2, y2, width)\n",
        "\n",
        "plt.xticks(x, ['Mon','Tues','Wed','Thur','Fri','Sat','Sun'])\n",
        "plt.xlabel(\"Days of week\")\n",
        "plt.legend([\"Casual\", \"member\"])\n",
        "plt.title('Average of rides by Day: Members vs Casual Riders')\n",
        "plt.show()"
      ]
    },
    {
      "cell_type": "code",
      "execution_count": 15,
      "metadata": {
        "colab": {
          "base_uri": "https://localhost:8080/",
          "height": 424
        },
        "id": "jSHmhJk0j4fk",
        "outputId": "f8dddba8-0943-4282-ca94-bc887eaffce4"
      },
      "outputs": [
        {
          "output_type": "stream",
          "name": "stdout",
          "text": [
            "            1      2       3       4       5       6       7       8       9  \\\n",
            "casual  14690   8613   75641  120418  216823  304184  369401  341463  292920   \n",
            "member  68818  34381  130046  177781  234155  304579  322892  332914  328183   \n",
            "\n",
            "            10      11      12  \n",
            "casual  189115   69958   45076  \n",
            "member  288851  185909  131293  \n"
          ]
        },
        {
          "output_type": "display_data",
          "data": {
            "text/plain": [
              "<Figure size 432x288 with 1 Axes>"
            ],
            "image/png": "[encoded data removed]"
          },
          "metadata": {
            "needs_background": "light"
          }
        }
      ],
      "source": [
        "#Total number of rides by Month: Members vs Casual Riders\n",
        "month = [1, 2, 3, 4, 5, 6, 7, 8, 9, 10, 11, 12]\n",
        "total_casual = []\n",
        "total_member = []\n",
        "sample_casual = 0\n",
        "sample_member = 0\n",
        "for i in month:\n",
        "  casual_df = casual.loc[casual['month'] == i]\n",
        "  member_df = member.loc[member['month'] == i]\n",
        "\n",
        "  sample_casual = casual_df['ride_length (mins)'].count()\n",
        "  sample_member = member_df['ride_length (mins)'].count()\n",
        "\n",
        "  total_casual.append(sample_casual)\n",
        "  total_member.append(sample_member)\n",
        "\n",
        "total_ride_month = pd.DataFrame([total_casual,total_member],\n",
        "                           columns = ['1', '2', '3', '4', '5', '6', '7', '8', '9', '10', '11', '12'],\n",
        "                           index = ['casual','member'])             \n",
        "print(total_ride_month)\n",
        "#Visual\\\n",
        "labels = ['1', '2', '3', '4', '5', '6', '7', '8', '9', '10', '11', '12']\n",
        "width = 0.4       \n",
        "plt.bar(labels, total_casual, width, label='Casual')\n",
        "plt.bar(labels, total_member, width,  bottom=total_casual,\n",
        "       label='Member')\n",
        "plt.xlabel('Month')\n",
        "plt.ylabel('Total ride')\n",
        "plt.title('Total number of rides by Month: Members vs Casual Riders')\n",
        "plt.legend()\n",
        "plt.show()"
      ]
    },
    {
      "cell_type": "code",
      "execution_count": 16,
      "metadata": {
        "colab": {
          "base_uri": "https://localhost:8080/"
        },
        "id": "Qwoil0jXlJit",
        "outputId": "f01949e8-bfab-4a8a-8b40-f1dbec902b55"
      },
      "outputs": [
        {
          "output_type": "execute_result",
          "data": {
            "text/plain": [
              "classic_bike     1261508\n",
              "electric_bike     474754\n",
              "docked_bike       312040\n",
              "Name: rideable_type, dtype: int64"
            ]
          },
          "metadata": {},
          "execution_count": 16
        }
      ],
      "source": [
        "casual['rideable_type'].value_counts()"
      ]
    },
    {
      "cell_type": "code",
      "execution_count": 17,
      "metadata": {
        "colab": {
          "base_uri": "https://localhost:8080/",
          "height": 764
        },
        "id": "_iI3RJ3EtzIJ",
        "outputId": "ae710920-d7f3-4602-ddf4-1a984383c2f5"
      },
      "outputs": [
        {
          "output_type": "display_data",
          "data": {
            "text/plain": [
              "<Figure size 576x432 with 3 Axes>"
            ],
            "image/png": "[encoded data removed]"
          },
          "metadata": {
            "needs_background": "light"
          }
        },
        {
          "output_type": "display_data",
          "data": {
            "text/plain": [
              "<Figure size 576x432 with 3 Axes>"
            ],
            "image/png": "[encoded data removed]"
          },
          "metadata": {
            "needs_background": "light"
          }
        }
      ],
      "source": [
        "ride_type = ('classic_bike','electric_bike','docked_bike')\n",
        "k = 0\n",
        "fig, axes = plt.subplots(1,3, figsize=(8,6), sharex=True, sharey=True)\n",
        "axes.ravel()\n",
        "for i in ride_type:\n",
        "  casual_df = casual.groupby(['month','rideable_type'], as_index = False)[['ride_id']].count()\n",
        "  casual_df.where(casual_df['rideable_type'] == i, inplace = True)\n",
        "  casual_df.dropna(inplace = True)\n",
        "  casual_df[['month', 'ride_id']] = casual_df[['month', 'ride_id']].astype(int)\n",
        "#  x = casual_df['month'].tolist()\n",
        "#  y = casual_df['ride_id'].tolist()\n",
        "\n",
        "  casual_df.plot.bar(x = 'month', y = 'ride_id', ax=axes[k])\n",
        "  k += 1\n",
        "\n",
        "\n",
        "fig, axes = plt.subplots(1,3, figsize=(8,6), sharey=True)\n",
        "k = 0\n",
        "for i in ride_type:\n",
        "  member_df = member.groupby(['month','rideable_type'], as_index = False)[['ride_id']].count()\n",
        "  member_df.where(member_df['rideable_type'] == i, inplace = True)\n",
        "  member_df.dropna(inplace = True)\n",
        "  member_df[['month', 'ride_id']] = member_df[['month', 'ride_id']].astype(int)\n",
        "  member_df.plot.bar(x = 'month', y = 'ride_id', ax=axes[k])\n",
        "  k += 1\n",
        "    \n",
        "\n",
        "#x = month\n",
        "#y = [1, 0,0,0,0,0,0,0,0,0,0,0]\n",
        "#plt.subplot(1,3,3)\n",
        "#plt.bar(x,y)\n"
      ]
    },
    {
      "cell_type": "code",
      "execution_count": 17,
      "metadata": {
        "id": "r5YYDFSWOD3E"
      },
      "outputs": [],
      "source": [
        ""
      ]
    }
  ],
  "metadata": {
    "colab": {
      "collapsed_sections": [],
      "name": "Google data trip.ipynb",
      "provenance": [],
      "mount_file_id": "1cmPSDNSqtDluJzz83CIHHr0JMhDpRIUN",
      "authorship_tag": "ABX9TyOnNlvl3pqW89FKYGBGbkHW",
      "include_colab_link": true
    },
    "kernelspec": {
      "display_name": "Python 3",
      "name": "python3"
    },
    "language_info": {
      "name": "python"
    }
  },
  "nbformat": 4,
  "nbformat_minor": 0
}